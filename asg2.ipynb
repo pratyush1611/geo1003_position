{
 "metadata": {
  "language_info": {
   "codemirror_mode": {
    "name": "ipython",
    "version": 3
   },
   "file_extension": ".py",
   "mimetype": "text/x-python",
   "name": "python",
   "nbconvert_exporter": "python",
   "pygments_lexer": "ipython3",
   "version": "3.8.2-final"
  },
  "orig_nbformat": 2,
  "kernelspec": {
   "name": "python3",
   "display_name": "Python 3"
  }
 },
 "nbformat": 4,
 "nbformat_minor": 2,
 "cells": [
  {
   "source": [
    "# AIM: Read the data sets collected from GPS reciever and filter it"
   ],
   "cell_type": "markdown",
   "metadata": {}
  },
  {
   "source": [
    "## IMPORTS\n"
   ],
   "cell_type": "markdown",
   "metadata": {}
  },
  {
   "cell_type": "code",
   "execution_count": 35,
   "metadata": {},
   "outputs": [],
   "source": [
    "import pandas as pd\n",
    "# pd.set_option('display.max_rows', 500)\n",
    "pd.set_option('display.max_columns', 21)\n",
    "\n",
    "import seaborn as sns\n",
    "import matplotlib.pyplot as plt\n"
   ]
  },
  {
   "cell_type": "code",
   "execution_count": 36,
   "metadata": {},
   "outputs": [
    {
     "output_type": "execute_result",
     "data": {
      "text/plain": [
       "         code          1            2            3             4  \\\n",
       "0      $GPGSV          3            1           11            02   \n",
       "1      $GPGSV          3            2           11            07   \n",
       "2      $GPGSV          3            3           11            30   \n",
       "3      $GLGSV          3            1           10            78   \n",
       "4      $GLGSV          3            2           10            69   \n",
       "...       ...        ...          ...          ...           ...   \n",
       "18688  $GNGSA          A            3           02            07   \n",
       "18689  $GNGSA          A            3           07            10   \n",
       "18690  $GNVTG        NaN            T          NaN             M   \n",
       "18691  $GNRMC  122531.00            A  5159.367185             N   \n",
       "18692  $GNGGA  122531.00  5159.367185            N  00422.977396   \n",
       "\n",
       "                  5    6     7    8       9   10    11   12    13   14    15  \\\n",
       "0                41  255  40.0   04      14  074    29   05    35  299  38.0   \n",
       "1                63  136  39.0   09      52  074    34   16    15  039  33.0   \n",
       "2                43  181  44.0   13      05  251   NaN   26    00  000   NaN   \n",
       "3                41  136   NaN   77      43  054   NaN   76    06  016   NaN   \n",
       "4                31  293   NaN   84      33  286   NaN   83    12  227   NaN   \n",
       "...             ...  ...   ...  ...     ...  ...   ...  ...   ...  ...   ...   \n",
       "18688            12   19  27.0   30      33  NaN   NaN  NaN   NaN  NaN   0.8   \n",
       "18689            23   24  25.0   29      30   32    33  NaN   NaN  NaN   0.8   \n",
       "18690           0.0    N   0.0    K    A*3D  NaN   NaN  NaN   NaN  NaN   NaN   \n",
       "18691  00422.977396    E   0.0  NaN  191120  1.8     W    A  V*6F  NaN   NaN   \n",
       "18692             E    1  12.0  0.4    -2.8    M  47.0    M   NaN  *50   NaN   \n",
       "\n",
       "         16    17    18    19    20  \n",
       "0        06  25.0   201  41.0  1*63  \n",
       "1        29   8.0   320  37.0  1*6C  \n",
       "2      1*5D   NaN   NaN   NaN   NaN  \n",
       "3        79   3.0   172   NaN  1*7A  \n",
       "4        85  14.0   345   NaN  1*78  \n",
       "...     ...   ...   ...   ...   ...  \n",
       "18688   0.4   0.6  3*31   NaN   NaN  \n",
       "18689   0.4   0.6  4*31   NaN   NaN  \n",
       "18690   NaN   NaN   NaN   NaN   NaN  \n",
       "18691   NaN   NaN   NaN   NaN   NaN  \n",
       "18692   NaN   NaN   NaN   NaN   NaN  \n",
       "\n",
       "[18693 rows x 21 columns]"
      ],
      "text/html": "<div>\n<style scoped>\n    .dataframe tbody tr th:only-of-type {\n        vertical-align: middle;\n    }\n\n    .dataframe tbody tr th {\n        vertical-align: top;\n    }\n\n    .dataframe thead th {\n        text-align: right;\n    }\n</style>\n<table border=\"1\" class=\"dataframe\">\n  <thead>\n    <tr style=\"text-align: right;\">\n      <th></th>\n      <th>code</th>\n      <th>1</th>\n      <th>2</th>\n      <th>3</th>\n      <th>4</th>\n      <th>5</th>\n      <th>6</th>\n      <th>7</th>\n      <th>8</th>\n      <th>9</th>\n      <th>10</th>\n      <th>11</th>\n      <th>12</th>\n      <th>13</th>\n      <th>14</th>\n      <th>15</th>\n      <th>16</th>\n      <th>17</th>\n      <th>18</th>\n      <th>19</th>\n      <th>20</th>\n    </tr>\n  </thead>\n  <tbody>\n    <tr>\n      <th>0</th>\n      <td>$GPGSV</td>\n      <td>3</td>\n      <td>1</td>\n      <td>11</td>\n      <td>02</td>\n      <td>41</td>\n      <td>255</td>\n      <td>40.0</td>\n      <td>04</td>\n      <td>14</td>\n      <td>074</td>\n      <td>29</td>\n      <td>05</td>\n      <td>35</td>\n      <td>299</td>\n      <td>38.0</td>\n      <td>06</td>\n      <td>25.0</td>\n      <td>201</td>\n      <td>41.0</td>\n      <td>1*63</td>\n    </tr>\n    <tr>\n      <th>1</th>\n      <td>$GPGSV</td>\n      <td>3</td>\n      <td>2</td>\n      <td>11</td>\n      <td>07</td>\n      <td>63</td>\n      <td>136</td>\n      <td>39.0</td>\n      <td>09</td>\n      <td>52</td>\n      <td>074</td>\n      <td>34</td>\n      <td>16</td>\n      <td>15</td>\n      <td>039</td>\n      <td>33.0</td>\n      <td>29</td>\n      <td>8.0</td>\n      <td>320</td>\n      <td>37.0</td>\n      <td>1*6C</td>\n    </tr>\n    <tr>\n      <th>2</th>\n      <td>$GPGSV</td>\n      <td>3</td>\n      <td>3</td>\n      <td>11</td>\n      <td>30</td>\n      <td>43</td>\n      <td>181</td>\n      <td>44.0</td>\n      <td>13</td>\n      <td>05</td>\n      <td>251</td>\n      <td>NaN</td>\n      <td>26</td>\n      <td>00</td>\n      <td>000</td>\n      <td>NaN</td>\n      <td>1*5D</td>\n      <td>NaN</td>\n      <td>NaN</td>\n      <td>NaN</td>\n      <td>NaN</td>\n    </tr>\n    <tr>\n      <th>3</th>\n      <td>$GLGSV</td>\n      <td>3</td>\n      <td>1</td>\n      <td>10</td>\n      <td>78</td>\n      <td>41</td>\n      <td>136</td>\n      <td>NaN</td>\n      <td>77</td>\n      <td>43</td>\n      <td>054</td>\n      <td>NaN</td>\n      <td>76</td>\n      <td>06</td>\n      <td>016</td>\n      <td>NaN</td>\n      <td>79</td>\n      <td>3.0</td>\n      <td>172</td>\n      <td>NaN</td>\n      <td>1*7A</td>\n    </tr>\n    <tr>\n      <th>4</th>\n      <td>$GLGSV</td>\n      <td>3</td>\n      <td>2</td>\n      <td>10</td>\n      <td>69</td>\n      <td>31</td>\n      <td>293</td>\n      <td>NaN</td>\n      <td>84</td>\n      <td>33</td>\n      <td>286</td>\n      <td>NaN</td>\n      <td>83</td>\n      <td>12</td>\n      <td>227</td>\n      <td>NaN</td>\n      <td>85</td>\n      <td>14.0</td>\n      <td>345</td>\n      <td>NaN</td>\n      <td>1*78</td>\n    </tr>\n    <tr>\n      <th>...</th>\n      <td>...</td>\n      <td>...</td>\n      <td>...</td>\n      <td>...</td>\n      <td>...</td>\n      <td>...</td>\n      <td>...</td>\n      <td>...</td>\n      <td>...</td>\n      <td>...</td>\n      <td>...</td>\n      <td>...</td>\n      <td>...</td>\n      <td>...</td>\n      <td>...</td>\n      <td>...</td>\n      <td>...</td>\n      <td>...</td>\n      <td>...</td>\n      <td>...</td>\n      <td>...</td>\n    </tr>\n    <tr>\n      <th>18688</th>\n      <td>$GNGSA</td>\n      <td>A</td>\n      <td>3</td>\n      <td>02</td>\n      <td>07</td>\n      <td>12</td>\n      <td>19</td>\n      <td>27.0</td>\n      <td>30</td>\n      <td>33</td>\n      <td>NaN</td>\n      <td>NaN</td>\n      <td>NaN</td>\n      <td>NaN</td>\n      <td>NaN</td>\n      <td>0.8</td>\n      <td>0.4</td>\n      <td>0.6</td>\n      <td>3*31</td>\n      <td>NaN</td>\n      <td>NaN</td>\n    </tr>\n    <tr>\n      <th>18689</th>\n      <td>$GNGSA</td>\n      <td>A</td>\n      <td>3</td>\n      <td>07</td>\n      <td>10</td>\n      <td>23</td>\n      <td>24</td>\n      <td>25.0</td>\n      <td>29</td>\n      <td>30</td>\n      <td>32</td>\n      <td>33</td>\n      <td>NaN</td>\n      <td>NaN</td>\n      <td>NaN</td>\n      <td>0.8</td>\n      <td>0.4</td>\n      <td>0.6</td>\n      <td>4*31</td>\n      <td>NaN</td>\n      <td>NaN</td>\n    </tr>\n    <tr>\n      <th>18690</th>\n      <td>$GNVTG</td>\n      <td>NaN</td>\n      <td>T</td>\n      <td>NaN</td>\n      <td>M</td>\n      <td>0.0</td>\n      <td>N</td>\n      <td>0.0</td>\n      <td>K</td>\n      <td>A*3D</td>\n      <td>NaN</td>\n      <td>NaN</td>\n      <td>NaN</td>\n      <td>NaN</td>\n      <td>NaN</td>\n      <td>NaN</td>\n      <td>NaN</td>\n      <td>NaN</td>\n      <td>NaN</td>\n      <td>NaN</td>\n      <td>NaN</td>\n    </tr>\n    <tr>\n      <th>18691</th>\n      <td>$GNRMC</td>\n      <td>122531.00</td>\n      <td>A</td>\n      <td>5159.367185</td>\n      <td>N</td>\n      <td>00422.977396</td>\n      <td>E</td>\n      <td>0.0</td>\n      <td>NaN</td>\n      <td>191120</td>\n      <td>1.8</td>\n      <td>W</td>\n      <td>A</td>\n      <td>V*6F</td>\n      <td>NaN</td>\n      <td>NaN</td>\n      <td>NaN</td>\n      <td>NaN</td>\n      <td>NaN</td>\n      <td>NaN</td>\n      <td>NaN</td>\n    </tr>\n    <tr>\n      <th>18692</th>\n      <td>$GNGGA</td>\n      <td>122531.00</td>\n      <td>5159.367185</td>\n      <td>N</td>\n      <td>00422.977396</td>\n      <td>E</td>\n      <td>1</td>\n      <td>12.0</td>\n      <td>0.4</td>\n      <td>-2.8</td>\n      <td>M</td>\n      <td>47.0</td>\n      <td>M</td>\n      <td>NaN</td>\n      <td>*50</td>\n      <td>NaN</td>\n      <td>NaN</td>\n      <td>NaN</td>\n      <td>NaN</td>\n      <td>NaN</td>\n      <td>NaN</td>\n    </tr>\n  </tbody>\n</table>\n<p>18693 rows × 21 columns</p>\n</div>"
     },
     "metadata": {},
     "execution_count": 36
    }
   ],
   "source": [
    "colnm = ['code','1','2','3','4','5','6','7','8','9','10','11','12','13','14','15','16','17','18','19','20'] \n",
    "df = pd.read_csv(\"openField1.txt\" ,names=colnm ,  header=None )\n",
    "# df.columns([])\n",
    "# df.where(df['21']==None)\n",
    "df"
   ]
  },
  {
   "source": [
    "## $GPGSV dataset\n",
    "### GPS Satellites in view\n",
    "\n",
    "```\n",
    "eg. $GPGSV,3,1,11,03,03,111,00,04,15,270,00,06,01,010,00,13,06,292,00*74\n",
    "    $GPGSV,3,2,11,14,25,170,00,16,57,208,39,18,67,296,40,19,40,246,00*74\n",
    "    $GPGSV,3,3,11,22,42,067,42,24,14,311,43,27,05,244,00,,,,*4D\n",
    "\n",
    "\n",
    "    $GPGSV,1,1,13,02,02,213,,03,-3,000,,11,00,121,,14,13,172,05*67\n",
    "\n",
    "1    = Total number of messages of this type in this cycle\n",
    "2    = Message number\n",
    "3    = Total number of SVs in view\n",
    "4    = SV PRN number\n",
    "5    = Elevation in degrees, 90 maximum\n",
    "6    = Azimuth, degrees from true north, 000 to 359\n",
    "7    = SNR, 00-99 dB (null when not tracking)\n",
    "8-11 = Information about second SV, same as field 4-7\n",
    "12-15= Information about third SV, same as field 4-7\n",
    "16-19= Information about fourth SV, same as field 4-7\n",
    "```\n"
   ],
   "cell_type": "markdown",
   "metadata": {}
  },
  {
   "cell_type": "code",
   "execution_count": 37,
   "metadata": {},
   "outputs": [
    {
     "output_type": "execute_result",
     "data": {
      "text/plain": [
       "         code  1  2   3   4   5    6     7   8   9   10   11    12   13   14  \\\n",
       "0      $GPGSV  3  1  11  02  41  255  40.0  04  14  074   29    05   35  299   \n",
       "1      $GPGSV  3  2  11  07  63  136  39.0  09  52  074   34    16   15  039   \n",
       "2      $GPGSV  3  3  11  30  43  181  44.0  13  05  251  NaN    26   00  000   \n",
       "20     $GPGSV  3  1  11  02  41  255  40.0  04  14  074   29    05   35  299   \n",
       "21     $GPGSV  3  2  11  07  63  136  38.0  09  52  074   32    16   15  039   \n",
       "...       ... .. ..  ..  ..  ..  ...   ...  ..  ..  ...  ...   ...  ...  ...   \n",
       "18652  $GPGSV  3  2  10  07  66  123  32.0  09  46  077   39    13   10  254   \n",
       "18653  $GPGSV  3  3  10  29  07  316  35.0  30  49  180   44  1*6C  NaN  NaN   \n",
       "18672  $GPGSV  3  1  10  02  37  248  31.0  04  09  077   36    05   41  298   \n",
       "18673  $GPGSV  3  2  10  07  66  123  31.0  09  46  077   39    13   10  254   \n",
       "18674  $GPGSV  3  3  10  29  07  316  35.0  30  49  180   45  1*6D  NaN  NaN   \n",
       "\n",
       "         15    16    17   18    19    20  \n",
       "0      38.0    06  25.0  201  41.0  1*63  \n",
       "1      33.0    29   8.0  320  37.0  1*6C  \n",
       "2       NaN  1*5D   NaN  NaN   NaN   NaN  \n",
       "20     36.0    06  25.0  201  42.0  1*6E  \n",
       "21     32.0    29   8.0  320  36.0  1*6B  \n",
       "...     ...   ...   ...  ...   ...   ...  \n",
       "18652  38.0    16  14.0  033  35.0  1*6C  \n",
       "18653   NaN   NaN   NaN  NaN   NaN   NaN  \n",
       "18672  41.0    06  19.0  198  40.0  1*69  \n",
       "18673  40.0    16  14.0  033  35.0  1*60  \n",
       "18674   NaN   NaN   NaN  NaN   NaN   NaN  \n",
       "\n",
       "[2766 rows x 21 columns]"
      ],
      "text/html": "<div>\n<style scoped>\n    .dataframe tbody tr th:only-of-type {\n        vertical-align: middle;\n    }\n\n    .dataframe tbody tr th {\n        vertical-align: top;\n    }\n\n    .dataframe thead th {\n        text-align: right;\n    }\n</style>\n<table border=\"1\" class=\"dataframe\">\n  <thead>\n    <tr style=\"text-align: right;\">\n      <th></th>\n      <th>code</th>\n      <th>1</th>\n      <th>2</th>\n      <th>3</th>\n      <th>4</th>\n      <th>5</th>\n      <th>6</th>\n      <th>7</th>\n      <th>8</th>\n      <th>9</th>\n      <th>10</th>\n      <th>11</th>\n      <th>12</th>\n      <th>13</th>\n      <th>14</th>\n      <th>15</th>\n      <th>16</th>\n      <th>17</th>\n      <th>18</th>\n      <th>19</th>\n      <th>20</th>\n    </tr>\n  </thead>\n  <tbody>\n    <tr>\n      <th>0</th>\n      <td>$GPGSV</td>\n      <td>3</td>\n      <td>1</td>\n      <td>11</td>\n      <td>02</td>\n      <td>41</td>\n      <td>255</td>\n      <td>40.0</td>\n      <td>04</td>\n      <td>14</td>\n      <td>074</td>\n      <td>29</td>\n      <td>05</td>\n      <td>35</td>\n      <td>299</td>\n      <td>38.0</td>\n      <td>06</td>\n      <td>25.0</td>\n      <td>201</td>\n      <td>41.0</td>\n      <td>1*63</td>\n    </tr>\n    <tr>\n      <th>1</th>\n      <td>$GPGSV</td>\n      <td>3</td>\n      <td>2</td>\n      <td>11</td>\n      <td>07</td>\n      <td>63</td>\n      <td>136</td>\n      <td>39.0</td>\n      <td>09</td>\n      <td>52</td>\n      <td>074</td>\n      <td>34</td>\n      <td>16</td>\n      <td>15</td>\n      <td>039</td>\n      <td>33.0</td>\n      <td>29</td>\n      <td>8.0</td>\n      <td>320</td>\n      <td>37.0</td>\n      <td>1*6C</td>\n    </tr>\n    <tr>\n      <th>2</th>\n      <td>$GPGSV</td>\n      <td>3</td>\n      <td>3</td>\n      <td>11</td>\n      <td>30</td>\n      <td>43</td>\n      <td>181</td>\n      <td>44.0</td>\n      <td>13</td>\n      <td>05</td>\n      <td>251</td>\n      <td>NaN</td>\n      <td>26</td>\n      <td>00</td>\n      <td>000</td>\n      <td>NaN</td>\n      <td>1*5D</td>\n      <td>NaN</td>\n      <td>NaN</td>\n      <td>NaN</td>\n      <td>NaN</td>\n    </tr>\n    <tr>\n      <th>20</th>\n      <td>$GPGSV</td>\n      <td>3</td>\n      <td>1</td>\n      <td>11</td>\n      <td>02</td>\n      <td>41</td>\n      <td>255</td>\n      <td>40.0</td>\n      <td>04</td>\n      <td>14</td>\n      <td>074</td>\n      <td>29</td>\n      <td>05</td>\n      <td>35</td>\n      <td>299</td>\n      <td>36.0</td>\n      <td>06</td>\n      <td>25.0</td>\n      <td>201</td>\n      <td>42.0</td>\n      <td>1*6E</td>\n    </tr>\n    <tr>\n      <th>21</th>\n      <td>$GPGSV</td>\n      <td>3</td>\n      <td>2</td>\n      <td>11</td>\n      <td>07</td>\n      <td>63</td>\n      <td>136</td>\n      <td>38.0</td>\n      <td>09</td>\n      <td>52</td>\n      <td>074</td>\n      <td>32</td>\n      <td>16</td>\n      <td>15</td>\n      <td>039</td>\n      <td>32.0</td>\n      <td>29</td>\n      <td>8.0</td>\n      <td>320</td>\n      <td>36.0</td>\n      <td>1*6B</td>\n    </tr>\n    <tr>\n      <th>...</th>\n      <td>...</td>\n      <td>...</td>\n      <td>...</td>\n      <td>...</td>\n      <td>...</td>\n      <td>...</td>\n      <td>...</td>\n      <td>...</td>\n      <td>...</td>\n      <td>...</td>\n      <td>...</td>\n      <td>...</td>\n      <td>...</td>\n      <td>...</td>\n      <td>...</td>\n      <td>...</td>\n      <td>...</td>\n      <td>...</td>\n      <td>...</td>\n      <td>...</td>\n      <td>...</td>\n    </tr>\n    <tr>\n      <th>18652</th>\n      <td>$GPGSV</td>\n      <td>3</td>\n      <td>2</td>\n      <td>10</td>\n      <td>07</td>\n      <td>66</td>\n      <td>123</td>\n      <td>32.0</td>\n      <td>09</td>\n      <td>46</td>\n      <td>077</td>\n      <td>39</td>\n      <td>13</td>\n      <td>10</td>\n      <td>254</td>\n      <td>38.0</td>\n      <td>16</td>\n      <td>14.0</td>\n      <td>033</td>\n      <td>35.0</td>\n      <td>1*6C</td>\n    </tr>\n    <tr>\n      <th>18653</th>\n      <td>$GPGSV</td>\n      <td>3</td>\n      <td>3</td>\n      <td>10</td>\n      <td>29</td>\n      <td>07</td>\n      <td>316</td>\n      <td>35.0</td>\n      <td>30</td>\n      <td>49</td>\n      <td>180</td>\n      <td>44</td>\n      <td>1*6C</td>\n      <td>NaN</td>\n      <td>NaN</td>\n      <td>NaN</td>\n      <td>NaN</td>\n      <td>NaN</td>\n      <td>NaN</td>\n      <td>NaN</td>\n      <td>NaN</td>\n    </tr>\n    <tr>\n      <th>18672</th>\n      <td>$GPGSV</td>\n      <td>3</td>\n      <td>1</td>\n      <td>10</td>\n      <td>02</td>\n      <td>37</td>\n      <td>248</td>\n      <td>31.0</td>\n      <td>04</td>\n      <td>09</td>\n      <td>077</td>\n      <td>36</td>\n      <td>05</td>\n      <td>41</td>\n      <td>298</td>\n      <td>41.0</td>\n      <td>06</td>\n      <td>19.0</td>\n      <td>198</td>\n      <td>40.0</td>\n      <td>1*69</td>\n    </tr>\n    <tr>\n      <th>18673</th>\n      <td>$GPGSV</td>\n      <td>3</td>\n      <td>2</td>\n      <td>10</td>\n      <td>07</td>\n      <td>66</td>\n      <td>123</td>\n      <td>31.0</td>\n      <td>09</td>\n      <td>46</td>\n      <td>077</td>\n      <td>39</td>\n      <td>13</td>\n      <td>10</td>\n      <td>254</td>\n      <td>40.0</td>\n      <td>16</td>\n      <td>14.0</td>\n      <td>033</td>\n      <td>35.0</td>\n      <td>1*60</td>\n    </tr>\n    <tr>\n      <th>18674</th>\n      <td>$GPGSV</td>\n      <td>3</td>\n      <td>3</td>\n      <td>10</td>\n      <td>29</td>\n      <td>07</td>\n      <td>316</td>\n      <td>35.0</td>\n      <td>30</td>\n      <td>49</td>\n      <td>180</td>\n      <td>45</td>\n      <td>1*6D</td>\n      <td>NaN</td>\n      <td>NaN</td>\n      <td>NaN</td>\n      <td>NaN</td>\n      <td>NaN</td>\n      <td>NaN</td>\n      <td>NaN</td>\n      <td>NaN</td>\n    </tr>\n  </tbody>\n</table>\n<p>2766 rows × 21 columns</p>\n</div>"
     },
     "metadata": {},
     "execution_count": 37
    }
   ],
   "source": [
    "gsv = df[ df['code'] == '$GPGSV']\n",
    "gsv"
   ]
  },
  {
   "source": [
    "## $GPGSA datasets\n",
    "\n",
    "### GPS DOP and active satellites\n",
    "\n",
    "```\n",
    "eg1. $GPGSA,A,3,,,,,,16,18,,22,24,,,3.6,2.1,2.2*3C\n",
    "eg2. $GPGSA,A,3,19,28,14,18,27,22,31,39,,,,,1.7,1.0,1.3*35\n",
    "\n",
    "\n",
    "1    = Mode:\n",
    "       M=Manual, forced to operate in 2D or 3D\n",
    "       A=Automatic, 3D/2D\n",
    "2    = Mode:\n",
    "       1=Fix not available\n",
    "       2=2D\n",
    "       3=3D\n",
    "3-14 = IDs of SVs used in position fix (null for unused fields)\n",
    "15   = PDOP\n",
    "16   = HDOP\n",
    "17   = VDOP\n",
    "```"
   ],
   "cell_type": "markdown",
   "metadata": {}
  },
  {
   "cell_type": "code",
   "execution_count": 88,
   "metadata": {},
   "outputs": [
    {
     "output_type": "execute_result",
     "data": {
      "text/plain": [
       "         code mode  PDOP HDOP  VDOP    18\n",
       "13     $GNGSA    A   0.7  0.4   0.6  1*31\n",
       "15     $GNGSA    A   0.7  0.4   0.6  3*3A\n",
       "16     $GNGSA    A   0.7  0.4   0.6  4*3F\n",
       "33     $GNGSA    A   0.7  0.4   0.6  1*31\n",
       "35     $GNGSA    A   0.7  0.4   0.6  3*3A\n",
       "...       ...  ...   ...  ...   ...   ...\n",
       "18667  $GNGSA    A   0.8  0.4   0.6  3*31\n",
       "18668  $GNGSA    A   0.8  0.4   0.6  4*31\n",
       "18686  $GNGSA    A   0.8  0.4   0.6  1*3D\n",
       "18688  $GNGSA    A   0.8  0.4   0.6  3*31\n",
       "18689  $GNGSA    A   0.8  0.4   0.6  4*31\n",
       "\n",
       "[2766 rows x 6 columns]"
      ],
      "text/html": "<div>\n<style scoped>\n    .dataframe tbody tr th:only-of-type {\n        vertical-align: middle;\n    }\n\n    .dataframe tbody tr th {\n        vertical-align: top;\n    }\n\n    .dataframe thead th {\n        text-align: right;\n    }\n</style>\n<table border=\"1\" class=\"dataframe\">\n  <thead>\n    <tr style=\"text-align: right;\">\n      <th></th>\n      <th>code</th>\n      <th>mode</th>\n      <th>PDOP</th>\n      <th>HDOP</th>\n      <th>VDOP</th>\n      <th>18</th>\n    </tr>\n  </thead>\n  <tbody>\n    <tr>\n      <th>13</th>\n      <td>$GNGSA</td>\n      <td>A</td>\n      <td>0.7</td>\n      <td>0.4</td>\n      <td>0.6</td>\n      <td>1*31</td>\n    </tr>\n    <tr>\n      <th>15</th>\n      <td>$GNGSA</td>\n      <td>A</td>\n      <td>0.7</td>\n      <td>0.4</td>\n      <td>0.6</td>\n      <td>3*3A</td>\n    </tr>\n    <tr>\n      <th>16</th>\n      <td>$GNGSA</td>\n      <td>A</td>\n      <td>0.7</td>\n      <td>0.4</td>\n      <td>0.6</td>\n      <td>4*3F</td>\n    </tr>\n    <tr>\n      <th>33</th>\n      <td>$GNGSA</td>\n      <td>A</td>\n      <td>0.7</td>\n      <td>0.4</td>\n      <td>0.6</td>\n      <td>1*31</td>\n    </tr>\n    <tr>\n      <th>35</th>\n      <td>$GNGSA</td>\n      <td>A</td>\n      <td>0.7</td>\n      <td>0.4</td>\n      <td>0.6</td>\n      <td>3*3A</td>\n    </tr>\n    <tr>\n      <th>...</th>\n      <td>...</td>\n      <td>...</td>\n      <td>...</td>\n      <td>...</td>\n      <td>...</td>\n      <td>...</td>\n    </tr>\n    <tr>\n      <th>18667</th>\n      <td>$GNGSA</td>\n      <td>A</td>\n      <td>0.8</td>\n      <td>0.4</td>\n      <td>0.6</td>\n      <td>3*31</td>\n    </tr>\n    <tr>\n      <th>18668</th>\n      <td>$GNGSA</td>\n      <td>A</td>\n      <td>0.8</td>\n      <td>0.4</td>\n      <td>0.6</td>\n      <td>4*31</td>\n    </tr>\n    <tr>\n      <th>18686</th>\n      <td>$GNGSA</td>\n      <td>A</td>\n      <td>0.8</td>\n      <td>0.4</td>\n      <td>0.6</td>\n      <td>1*3D</td>\n    </tr>\n    <tr>\n      <th>18688</th>\n      <td>$GNGSA</td>\n      <td>A</td>\n      <td>0.8</td>\n      <td>0.4</td>\n      <td>0.6</td>\n      <td>3*31</td>\n    </tr>\n    <tr>\n      <th>18689</th>\n      <td>$GNGSA</td>\n      <td>A</td>\n      <td>0.8</td>\n      <td>0.4</td>\n      <td>0.6</td>\n      <td>4*31</td>\n    </tr>\n  </tbody>\n</table>\n<p>2766 rows × 6 columns</p>\n</div>"
     },
     "metadata": {},
     "execution_count": 88
    }
   ],
   "source": [
    "gsa = df[ (df['code']=='$GNGSA') & (df['3'] < '64' )]\n",
    "# SV ID < 64 => a NAVSTAR satellite\n",
    "gsa=gsa[['code','1','15','16','17','18']]\n",
    "gsa.columns = ['code','mode','PDOP','HDOP','VDOP','18']\n",
    "gsa\n"
   ]
  },
  {
   "cell_type": "code",
   "execution_count": 96,
   "metadata": {},
   "outputs": [
    {
     "output_type": "stream",
     "name": "stdout",
     "text": [
      "count    2766.000000\nmean        0.776573\nstd         0.042362\nmin         0.700000\n25%         0.800000\n50%         0.800000\n75%         0.800000\nmax         0.800000\nName: PDOP, dtype: float64\ncount    2766.000000\nmean        0.602603\nstd         0.015925\nmin         0.600000\n25%         0.600000\n50%         0.600000\n75%         0.600000\nmax         0.700000\nName: VDOP, dtype: float64\ncount     2766\nunique       1\ntop        0.4\nfreq      2766\nName: HDOP, dtype: object\n"
     ]
    },
    {
     "output_type": "execute_result",
     "data": {
      "text/plain": [
       "<AxesSubplot:>"
      ]
     },
     "metadata": {},
     "execution_count": 96
    },
    {
     "output_type": "display_data",
     "data": {
      "text/plain": "<Figure size 432x288 with 1 Axes>",
      "image/svg+xml": "<?xml version=\"1.0\" encoding=\"utf-8\" standalone=\"no\"?>\n<!DOCTYPE svg PUBLIC \"-//W3C//DTD SVG 1.1//EN\"\n  \"http://www.w3.org/Graphics/SVG/1.1/DTD/svg11.dtd\">\n<!-- Created with matplotlib (https://matplotlib.org/) -->\n<svg height=\"248.518125pt\" version=\"1.1\" viewBox=\"0 0 381.65 248.518125\" width=\"381.65pt\" xmlns=\"http://www.w3.org/2000/svg\" xmlns:xlink=\"http://www.w3.org/1999/xlink\">\n <metadata>\n  <rdf:RDF xmlns:cc=\"http://creativecommons.org/ns#\" xmlns:dc=\"http://purl.org/dc/elements/1.1/\" xmlns:rdf=\"http://www.w3.org/1999/02/22-rdf-syntax-ns#\">\n   <cc:Work>\n    <dc:type rdf:resource=\"http://purl.org/dc/dcmitype/StillImage\"/>\n    <dc:date>2020-11-20T02:12:32.944087</dc:date>\n    <dc:format>image/svg+xml</dc:format>\n    <dc:creator>\n     <cc:Agent>\n      <dc:title>Matplotlib v3.3.1, https://matplotlib.org/</dc:title>\n     </cc:Agent>\n    </dc:creator>\n   </cc:Work>\n  </rdf:RDF>\n </metadata>\n <defs>\n  <style type=\"text/css\">*{stroke-linecap:butt;stroke-linejoin:round;}</style>\n </defs>\n <g id=\"figure_1\">\n  <g id=\"patch_1\">\n   <path d=\"M -0 248.518125 \nL 381.65 248.518125 \nL 381.65 0 \nL -0 0 \nz\n\" style=\"fill:none;\"/>\n  </g>\n  <g id=\"axes_1\">\n   <g id=\"patch_2\">\n    <path d=\"M 39.65 224.64 \nL 374.45 224.64 \nL 374.45 7.2 \nL 39.65 7.2 \nz\n\" style=\"fill:#ffffff;\"/>\n   </g>\n   <g id=\"patch_3\">\n    <path clip-path=\"url(#p5df7c857ae)\" d=\"M 335.819231 224.64 \nL 338.16049 224.64 \nL 338.16049 176.125342 \nL 335.819231 176.125342 \nz\n\" style=\"fill:#1f77b4;\"/>\n   </g>\n   <g id=\"patch_4\">\n    <path clip-path=\"url(#p5df7c857ae)\" d=\"M 338.16049 224.64 \nL 340.501748 224.64 \nL 340.501748 224.64 \nL 338.16049 224.64 \nz\n\" style=\"fill:#1f77b4;\"/>\n   </g>\n   <g id=\"patch_5\">\n    <path clip-path=\"url(#p5df7c857ae)\" d=\"M 340.501748 224.64 \nL 342.843007 224.64 \nL 342.843007 224.64 \nL 340.501748 224.64 \nz\n\" style=\"fill:#1f77b4;\"/>\n   </g>\n   <g id=\"patch_6\">\n    <path clip-path=\"url(#p5df7c857ae)\" d=\"M 342.843007 224.64 \nL 345.184266 224.64 \nL 345.184266 224.64 \nL 342.843007 224.64 \nz\n\" style=\"fill:#1f77b4;\"/>\n   </g>\n   <g id=\"patch_7\">\n    <path clip-path=\"url(#p5df7c857ae)\" d=\"M 345.184266 224.64 \nL 347.525524 224.64 \nL 347.525524 224.64 \nL 345.184266 224.64 \nz\n\" style=\"fill:#1f77b4;\"/>\n   </g>\n   <g id=\"patch_8\">\n    <path clip-path=\"url(#p5df7c857ae)\" d=\"M 347.525524 224.64 \nL 349.866783 224.64 \nL 349.866783 224.64 \nL 347.525524 224.64 \nz\n\" style=\"fill:#1f77b4;\"/>\n   </g>\n   <g id=\"patch_9\">\n    <path clip-path=\"url(#p5df7c857ae)\" d=\"M 349.866783 224.64 \nL 352.208042 224.64 \nL 352.208042 224.64 \nL 349.866783 224.64 \nz\n\" style=\"fill:#1f77b4;\"/>\n   </g>\n   <g id=\"patch_10\">\n    <path clip-path=\"url(#p5df7c857ae)\" d=\"M 352.208042 224.64 \nL 354.549301 224.64 \nL 354.549301 224.64 \nL 352.208042 224.64 \nz\n\" style=\"fill:#1f77b4;\"/>\n   </g>\n   <g id=\"patch_11\">\n    <path clip-path=\"url(#p5df7c857ae)\" d=\"M 354.549301 224.64 \nL 356.890559 224.64 \nL 356.890559 224.64 \nL 354.549301 224.64 \nz\n\" style=\"fill:#1f77b4;\"/>\n   </g>\n   <g id=\"patch_12\">\n    <path clip-path=\"url(#p5df7c857ae)\" d=\"M 356.890559 224.64 \nL 359.231818 224.64 \nL 359.231818 66.068943 \nL 356.890559 66.068943 \nz\n\" style=\"fill:#1f77b4;\"/>\n   </g>\n   <g id=\"patch_13\">\n    <path clip-path=\"url(#p5df7c857ae)\" d=\"M 312.406643 224.64 \nL 314.747902 224.64 \nL 314.747902 22.944803 \nL 312.406643 22.944803 \nz\n\" style=\"fill:#ff7f0e;\"/>\n   </g>\n   <g id=\"patch_14\">\n    <path clip-path=\"url(#p5df7c857ae)\" d=\"M 314.747902 224.64 \nL 317.089161 224.64 \nL 317.089161 224.64 \nL 314.747902 224.64 \nz\n\" style=\"fill:#ff7f0e;\"/>\n   </g>\n   <g id=\"patch_15\">\n    <path clip-path=\"url(#p5df7c857ae)\" d=\"M 317.089161 224.64 \nL 319.43042 224.64 \nL 319.43042 224.64 \nL 317.089161 224.64 \nz\n\" style=\"fill:#ff7f0e;\"/>\n   </g>\n   <g id=\"patch_16\">\n    <path clip-path=\"url(#p5df7c857ae)\" d=\"M 319.43042 224.64 \nL 321.771678 224.64 \nL 321.771678 224.64 \nL 319.43042 224.64 \nz\n\" style=\"fill:#ff7f0e;\"/>\n   </g>\n   <g id=\"patch_17\">\n    <path clip-path=\"url(#p5df7c857ae)\" d=\"M 321.771678 224.64 \nL 324.112937 224.64 \nL 324.112937 224.64 \nL 321.771678 224.64 \nz\n\" style=\"fill:#ff7f0e;\"/>\n   </g>\n   <g id=\"patch_18\">\n    <path clip-path=\"url(#p5df7c857ae)\" d=\"M 324.112937 224.64 \nL 326.454196 224.64 \nL 326.454196 224.64 \nL 324.112937 224.64 \nz\n\" style=\"fill:#ff7f0e;\"/>\n   </g>\n   <g id=\"patch_19\">\n    <path clip-path=\"url(#p5df7c857ae)\" d=\"M 326.454196 224.64 \nL 328.795455 224.64 \nL 328.795455 224.64 \nL 326.454196 224.64 \nz\n\" style=\"fill:#ff7f0e;\"/>\n   </g>\n   <g id=\"patch_20\">\n    <path clip-path=\"url(#p5df7c857ae)\" d=\"M 328.795455 224.64 \nL 331.136713 224.64 \nL 331.136713 224.64 \nL 328.795455 224.64 \nz\n\" style=\"fill:#ff7f0e;\"/>\n   </g>\n   <g id=\"patch_21\">\n    <path clip-path=\"url(#p5df7c857ae)\" d=\"M 331.136713 224.64 \nL 333.477972 224.64 \nL 333.477972 224.64 \nL 331.136713 224.64 \nz\n\" style=\"fill:#ff7f0e;\"/>\n   </g>\n   <g id=\"patch_22\">\n    <path clip-path=\"url(#p5df7c857ae)\" d=\"M 333.477972 224.64 \nL 335.819231 224.64 \nL 335.819231 219.249482 \nL 333.477972 219.249482 \nz\n\" style=\"fill:#ff7f0e;\"/>\n   </g>\n   <g id=\"patch_23\">\n    <path clip-path=\"url(#p5df7c857ae)\" d=\"M 54.868182 224.64 \nL 78.280769 224.64 \nL 78.280769 224.64 \nL 54.868182 224.64 \nz\n\" style=\"fill:#2ca02c;\"/>\n   </g>\n   <g id=\"patch_24\">\n    <path clip-path=\"url(#p5df7c857ae)\" d=\"M 78.280769 224.64 \nL 101.693357 224.64 \nL 101.693357 224.64 \nL 78.280769 224.64 \nz\n\" style=\"fill:#2ca02c;\"/>\n   </g>\n   <g id=\"patch_25\">\n    <path clip-path=\"url(#p5df7c857ae)\" d=\"M 101.693357 224.64 \nL 125.105944 224.64 \nL 125.105944 224.64 \nL 101.693357 224.64 \nz\n\" style=\"fill:#2ca02c;\"/>\n   </g>\n   <g id=\"patch_26\">\n    <path clip-path=\"url(#p5df7c857ae)\" d=\"M 125.105944 224.64 \nL 148.518531 224.64 \nL 148.518531 224.64 \nL 125.105944 224.64 \nz\n\" style=\"fill:#2ca02c;\"/>\n   </g>\n   <g id=\"patch_27\">\n    <path clip-path=\"url(#p5df7c857ae)\" d=\"M 148.518531 224.64 \nL 171.931119 224.64 \nL 171.931119 224.64 \nL 148.518531 224.64 \nz\n\" style=\"fill:#2ca02c;\"/>\n   </g>\n   <g id=\"patch_28\">\n    <path clip-path=\"url(#p5df7c857ae)\" d=\"M 171.931119 224.64 \nL 195.343706 224.64 \nL 195.343706 17.554286 \nL 171.931119 17.554286 \nz\n\" style=\"fill:#2ca02c;\"/>\n   </g>\n   <g id=\"patch_29\">\n    <path clip-path=\"url(#p5df7c857ae)\" d=\"M 195.343706 224.64 \nL 218.756294 224.64 \nL 218.756294 224.64 \nL 195.343706 224.64 \nz\n\" style=\"fill:#2ca02c;\"/>\n   </g>\n   <g id=\"patch_30\">\n    <path clip-path=\"url(#p5df7c857ae)\" d=\"M 218.756294 224.64 \nL 242.168881 224.64 \nL 242.168881 224.64 \nL 218.756294 224.64 \nz\n\" style=\"fill:#2ca02c;\"/>\n   </g>\n   <g id=\"patch_31\">\n    <path clip-path=\"url(#p5df7c857ae)\" d=\"M 242.168881 224.64 \nL 265.581469 224.64 \nL 265.581469 224.64 \nL 242.168881 224.64 \nz\n\" style=\"fill:#2ca02c;\"/>\n   </g>\n   <g id=\"patch_32\">\n    <path clip-path=\"url(#p5df7c857ae)\" d=\"M 265.581469 224.64 \nL 288.994056 224.64 \nL 288.994056 224.64 \nL 265.581469 224.64 \nz\n\" style=\"fill:#2ca02c;\"/>\n   </g>\n   <g id=\"matplotlib.axis_1\">\n    <g id=\"xtick_1\">\n     <g id=\"line2d_1\">\n      <path clip-path=\"url(#p5df7c857ae)\" d=\"M 171.931119 224.64 \nL 171.931119 7.2 \n\" style=\"fill:none;stroke:#b0b0b0;stroke-linecap:square;stroke-width:0.8;\"/>\n     </g>\n     <g id=\"line2d_2\">\n      <defs>\n       <path d=\"M 0 0 \nL 0 3.5 \n\" id=\"m0e997cc48a\" style=\"stroke:#000000;stroke-width:0.8;\"/>\n      </defs>\n      <g>\n       <use style=\"stroke:#000000;stroke-width:0.8;\" x=\"171.931119\" xlink:href=\"#m0e997cc48a\" y=\"224.64\"/>\n      </g>\n     </g>\n     <g id=\"text_1\">\n      <!-- 0.4 -->\n      <g transform=\"translate(163.979556 239.238437)scale(0.1 -0.1)\">\n       <defs>\n        <path d=\"M 31.78125 66.40625 \nQ 24.171875 66.40625 20.328125 58.90625 \nQ 16.5 51.421875 16.5 36.375 \nQ 16.5 21.390625 20.328125 13.890625 \nQ 24.171875 6.390625 31.78125 6.390625 \nQ 39.453125 6.390625 43.28125 13.890625 \nQ 47.125 21.390625 47.125 36.375 \nQ 47.125 51.421875 43.28125 58.90625 \nQ 39.453125 66.40625 31.78125 66.40625 \nz\nM 31.78125 74.21875 \nQ 44.046875 74.21875 50.515625 64.515625 \nQ 56.984375 54.828125 56.984375 36.375 \nQ 56.984375 17.96875 50.515625 8.265625 \nQ 44.046875 -1.421875 31.78125 -1.421875 \nQ 19.53125 -1.421875 13.0625 8.265625 \nQ 6.59375 17.96875 6.59375 36.375 \nQ 6.59375 54.828125 13.0625 64.515625 \nQ 19.53125 74.21875 31.78125 74.21875 \nz\n\" id=\"DejaVuSans-48\"/>\n        <path d=\"M 10.6875 12.40625 \nL 21 12.40625 \nL 21 0 \nL 10.6875 0 \nz\n\" id=\"DejaVuSans-46\"/>\n        <path d=\"M 37.796875 64.3125 \nL 12.890625 25.390625 \nL 37.796875 25.390625 \nz\nM 35.203125 72.90625 \nL 47.609375 72.90625 \nL 47.609375 25.390625 \nL 58.015625 25.390625 \nL 58.015625 17.1875 \nL 47.609375 17.1875 \nL 47.609375 0 \nL 37.796875 0 \nL 37.796875 17.1875 \nL 4.890625 17.1875 \nL 4.890625 26.703125 \nz\n\" id=\"DejaVuSans-52\"/>\n       </defs>\n       <use xlink:href=\"#DejaVuSans-48\"/>\n       <use x=\"63.623047\" xlink:href=\"#DejaVuSans-46\"/>\n       <use x=\"95.410156\" xlink:href=\"#DejaVuSans-52\"/>\n      </g>\n     </g>\n    </g>\n   </g>\n   <g id=\"matplotlib.axis_2\">\n    <g id=\"ytick_1\">\n     <g id=\"line2d_3\">\n      <path clip-path=\"url(#p5df7c857ae)\" d=\"M 39.65 224.64 \nL 374.45 224.64 \n\" style=\"fill:none;stroke:#b0b0b0;stroke-linecap:square;stroke-width:0.8;\"/>\n     </g>\n     <g id=\"line2d_4\">\n      <defs>\n       <path d=\"M 0 0 \nL -3.5 0 \n\" id=\"m01821ec8c1\" style=\"stroke:#000000;stroke-width:0.8;\"/>\n      </defs>\n      <g>\n       <use style=\"stroke:#000000;stroke-width:0.8;\" x=\"39.65\" xlink:href=\"#m01821ec8c1\" y=\"224.64\"/>\n      </g>\n     </g>\n     <g id=\"text_2\">\n      <!-- 0 -->\n      <g transform=\"translate(26.2875 228.439219)scale(0.1 -0.1)\">\n       <use xlink:href=\"#DejaVuSans-48\"/>\n      </g>\n     </g>\n    </g>\n    <g id=\"ytick_2\">\n     <g id=\"line2d_5\">\n      <path clip-path=\"url(#p5df7c857ae)\" d=\"M 39.65 187.205851 \nL 374.45 187.205851 \n\" style=\"fill:none;stroke:#b0b0b0;stroke-linecap:square;stroke-width:0.8;\"/>\n     </g>\n     <g id=\"line2d_6\">\n      <g>\n       <use style=\"stroke:#000000;stroke-width:0.8;\" x=\"39.65\" xlink:href=\"#m01821ec8c1\" y=\"187.205851\"/>\n      </g>\n     </g>\n     <g id=\"text_3\">\n      <!-- 500 -->\n      <g transform=\"translate(13.5625 191.005069)scale(0.1 -0.1)\">\n       <defs>\n        <path d=\"M 10.796875 72.90625 \nL 49.515625 72.90625 \nL 49.515625 64.59375 \nL 19.828125 64.59375 \nL 19.828125 46.734375 \nQ 21.96875 47.46875 24.109375 47.828125 \nQ 26.265625 48.1875 28.421875 48.1875 \nQ 40.625 48.1875 47.75 41.5 \nQ 54.890625 34.8125 54.890625 23.390625 \nQ 54.890625 11.625 47.5625 5.09375 \nQ 40.234375 -1.421875 26.90625 -1.421875 \nQ 22.3125 -1.421875 17.546875 -0.640625 \nQ 12.796875 0.140625 7.71875 1.703125 \nL 7.71875 11.625 \nQ 12.109375 9.234375 16.796875 8.0625 \nQ 21.484375 6.890625 26.703125 6.890625 \nQ 35.15625 6.890625 40.078125 11.328125 \nQ 45.015625 15.765625 45.015625 23.390625 \nQ 45.015625 31 40.078125 35.4375 \nQ 35.15625 39.890625 26.703125 39.890625 \nQ 22.75 39.890625 18.8125 39.015625 \nQ 14.890625 38.140625 10.796875 36.28125 \nz\n\" id=\"DejaVuSans-53\"/>\n       </defs>\n       <use xlink:href=\"#DejaVuSans-53\"/>\n       <use x=\"63.623047\" xlink:href=\"#DejaVuSans-48\"/>\n       <use x=\"127.246094\" xlink:href=\"#DejaVuSans-48\"/>\n      </g>\n     </g>\n    </g>\n    <g id=\"ytick_3\">\n     <g id=\"line2d_7\">\n      <path clip-path=\"url(#p5df7c857ae)\" d=\"M 39.65 149.771701 \nL 374.45 149.771701 \n\" style=\"fill:none;stroke:#b0b0b0;stroke-linecap:square;stroke-width:0.8;\"/>\n     </g>\n     <g id=\"line2d_8\">\n      <g>\n       <use style=\"stroke:#000000;stroke-width:0.8;\" x=\"39.65\" xlink:href=\"#m01821ec8c1\" y=\"149.771701\"/>\n      </g>\n     </g>\n     <g id=\"text_4\">\n      <!-- 1000 -->\n      <g transform=\"translate(7.2 153.57092)scale(0.1 -0.1)\">\n       <defs>\n        <path d=\"M 12.40625 8.296875 \nL 28.515625 8.296875 \nL 28.515625 63.921875 \nL 10.984375 60.40625 \nL 10.984375 69.390625 \nL 28.421875 72.90625 \nL 38.28125 72.90625 \nL 38.28125 8.296875 \nL 54.390625 8.296875 \nL 54.390625 0 \nL 12.40625 0 \nz\n\" id=\"DejaVuSans-49\"/>\n       </defs>\n       <use xlink:href=\"#DejaVuSans-49\"/>\n       <use x=\"63.623047\" xlink:href=\"#DejaVuSans-48\"/>\n       <use x=\"127.246094\" xlink:href=\"#DejaVuSans-48\"/>\n       <use x=\"190.869141\" xlink:href=\"#DejaVuSans-48\"/>\n      </g>\n     </g>\n    </g>\n    <g id=\"ytick_4\">\n     <g id=\"line2d_9\">\n      <path clip-path=\"url(#p5df7c857ae)\" d=\"M 39.65 112.337552 \nL 374.45 112.337552 \n\" style=\"fill:none;stroke:#b0b0b0;stroke-linecap:square;stroke-width:0.8;\"/>\n     </g>\n     <g id=\"line2d_10\">\n      <g>\n       <use style=\"stroke:#000000;stroke-width:0.8;\" x=\"39.65\" xlink:href=\"#m01821ec8c1\" y=\"112.337552\"/>\n      </g>\n     </g>\n     <g id=\"text_5\">\n      <!-- 1500 -->\n      <g transform=\"translate(7.2 116.136771)scale(0.1 -0.1)\">\n       <use xlink:href=\"#DejaVuSans-49\"/>\n       <use x=\"63.623047\" xlink:href=\"#DejaVuSans-53\"/>\n       <use x=\"127.246094\" xlink:href=\"#DejaVuSans-48\"/>\n       <use x=\"190.869141\" xlink:href=\"#DejaVuSans-48\"/>\n      </g>\n     </g>\n    </g>\n    <g id=\"ytick_5\">\n     <g id=\"line2d_11\">\n      <path clip-path=\"url(#p5df7c857ae)\" d=\"M 39.65 74.903403 \nL 374.45 74.903403 \n\" style=\"fill:none;stroke:#b0b0b0;stroke-linecap:square;stroke-width:0.8;\"/>\n     </g>\n     <g id=\"line2d_12\">\n      <g>\n       <use style=\"stroke:#000000;stroke-width:0.8;\" x=\"39.65\" xlink:href=\"#m01821ec8c1\" y=\"74.903403\"/>\n      </g>\n     </g>\n     <g id=\"text_6\">\n      <!-- 2000 -->\n      <g transform=\"translate(7.2 78.702621)scale(0.1 -0.1)\">\n       <defs>\n        <path d=\"M 19.1875 8.296875 \nL 53.609375 8.296875 \nL 53.609375 0 \nL 7.328125 0 \nL 7.328125 8.296875 \nQ 12.9375 14.109375 22.625 23.890625 \nQ 32.328125 33.6875 34.8125 36.53125 \nQ 39.546875 41.84375 41.421875 45.53125 \nQ 43.3125 49.21875 43.3125 52.78125 \nQ 43.3125 58.59375 39.234375 62.25 \nQ 35.15625 65.921875 28.609375 65.921875 \nQ 23.96875 65.921875 18.8125 64.3125 \nQ 13.671875 62.703125 7.8125 59.421875 \nL 7.8125 69.390625 \nQ 13.765625 71.78125 18.9375 73 \nQ 24.125 74.21875 28.421875 74.21875 \nQ 39.75 74.21875 46.484375 68.546875 \nQ 53.21875 62.890625 53.21875 53.421875 \nQ 53.21875 48.921875 51.53125 44.890625 \nQ 49.859375 40.875 45.40625 35.40625 \nQ 44.1875 33.984375 37.640625 27.21875 \nQ 31.109375 20.453125 19.1875 8.296875 \nz\n\" id=\"DejaVuSans-50\"/>\n       </defs>\n       <use xlink:href=\"#DejaVuSans-50\"/>\n       <use x=\"63.623047\" xlink:href=\"#DejaVuSans-48\"/>\n       <use x=\"127.246094\" xlink:href=\"#DejaVuSans-48\"/>\n       <use x=\"190.869141\" xlink:href=\"#DejaVuSans-48\"/>\n      </g>\n     </g>\n    </g>\n    <g id=\"ytick_6\">\n     <g id=\"line2d_13\">\n      <path clip-path=\"url(#p5df7c857ae)\" d=\"M 39.65 37.469253 \nL 374.45 37.469253 \n\" style=\"fill:none;stroke:#b0b0b0;stroke-linecap:square;stroke-width:0.8;\"/>\n     </g>\n     <g id=\"line2d_14\">\n      <g>\n       <use style=\"stroke:#000000;stroke-width:0.8;\" x=\"39.65\" xlink:href=\"#m01821ec8c1\" y=\"37.469253\"/>\n      </g>\n     </g>\n     <g id=\"text_7\">\n      <!-- 2500 -->\n      <g transform=\"translate(7.2 41.268472)scale(0.1 -0.1)\">\n       <use xlink:href=\"#DejaVuSans-50\"/>\n       <use x=\"63.623047\" xlink:href=\"#DejaVuSans-53\"/>\n       <use x=\"127.246094\" xlink:href=\"#DejaVuSans-48\"/>\n       <use x=\"190.869141\" xlink:href=\"#DejaVuSans-48\"/>\n      </g>\n     </g>\n    </g>\n   </g>\n   <g id=\"patch_33\">\n    <path d=\"M 39.65 224.64 \nL 39.65 7.2 \n\" style=\"fill:none;stroke:#000000;stroke-linecap:square;stroke-linejoin:miter;stroke-width:0.8;\"/>\n   </g>\n   <g id=\"patch_34\">\n    <path d=\"M 374.45 224.64 \nL 374.45 7.2 \n\" style=\"fill:none;stroke:#000000;stroke-linecap:square;stroke-linejoin:miter;stroke-width:0.8;\"/>\n   </g>\n   <g id=\"patch_35\">\n    <path d=\"M 39.65 224.64 \nL 374.45 224.64 \n\" style=\"fill:none;stroke:#000000;stroke-linecap:square;stroke-linejoin:miter;stroke-width:0.8;\"/>\n   </g>\n   <g id=\"patch_36\">\n    <path d=\"M 39.65 7.2 \nL 374.45 7.2 \n\" style=\"fill:none;stroke:#000000;stroke-linecap:square;stroke-linejoin:miter;stroke-width:0.8;\"/>\n   </g>\n  </g>\n </g>\n <defs>\n  <clipPath id=\"p5df7c857ae\">\n   <rect height=\"217.44\" width=\"334.8\" x=\"39.65\" y=\"7.2\"/>\n  </clipPath>\n </defs>\n</svg>\n",
      "image/png": "[encoded data removed]"
     },
     "metadata": {
      "needs_background": "light"
     }
    }
   ],
   "source": [
    "print(gsa.PDOP.describe())\n",
    "print(gsa.VDOP.describe())\n",
    "print(gsa.HDOP.describe())\n",
    "\n",
    "gsa.PDOP.hist()\n",
    "gsa.VDOP.hist()\n",
    "gsa.HDOP.hist()"
   ]
  },
  {
   "source": [
    "# $GPRMC\n",
    "## Recommended minimum specific GPS/Transit data\n",
    "\n",
    "```\n",
    "eg1. $GPRMC,081836,A,3751.65,S,14507.36,E,000.0,360.0,130998,011.3,E*62\n",
    "eg2. $GPRMC,225446,A,4916.45,N,12311.12,W,000.5,054.7,191194,020.3,E*68\n",
    "\n",
    "\n",
    "           225446       Time of fix 22:54:46 UTC\n",
    "           A            Navigation receiver warning A = OK, V = warning\n",
    "           4916.45,N    Latitude 49 deg. 16.45 min North\n",
    "           12311.12,W   Longitude 123 deg. 11.12 min West\n",
    "           000.5        Speed over ground, Knots\n",
    "           054.7        Course Made Good, True\n",
    "           191194       Date of fix  19 November 1994\n",
    "           020.3,E      Magnetic variation 20.3 deg East\n",
    "           *68          mandatory checksum\n",
    "```           "
   ],
   "cell_type": "markdown",
   "metadata": {}
  },
  {
   "cell_type": "code",
   "execution_count": null,
   "metadata": {},
   "outputs": [],
   "source": [
    "rmc = "
   ]
  }
 ]
}