{
 "metadata": {
  "language_info": {
   "codemirror_mode": {
    "name": "ipython",
    "version": 3
   },
   "file_extension": ".py",
   "mimetype": "text/x-python",
   "name": "python",
   "nbconvert_exporter": "python",
   "pygments_lexer": "ipython3",
   "version": "3.8.2-final"
  },
  "orig_nbformat": 2,
  "kernelspec": {
   "name": "python3",
   "display_name": "Python 3"
  }
 },
 "nbformat": 4,
 "nbformat_minor": 2,
 "cells": [
  {
   "source": [
    "# AIM: Read the data sets collected from GPS reciever and filter it"
   ],
   "cell_type": "markdown",
   "metadata": {}
  },
  {
   "source": [
    "## IMPORTS\n"
   ],
   "cell_type": "markdown",
   "metadata": {}
  },
  {
   "cell_type": "code",
   "execution_count": 35,
   "metadata": {},
   "outputs": [],
   "source": [
    "import pandas as pd\n",
    "# pd.set_option('display.max_rows', 500)\n",
    "pd.set_option('display.max_columns', 21)\n"
   ]
  },
  {
   "cell_type": "code",
   "execution_count": 36,
   "metadata": {},
   "outputs": [
    {
     "output_type": "execute_result",
     "data": {
      "text/plain": [
       "         code          1            2            3             4  \\\n",
       "0      $GPGSV          3            1           11            02   \n",
       "1      $GPGSV          3            2           11            07   \n",
       "2      $GPGSV          3            3           11            30   \n",
       "3      $GLGSV          3            1           10            78   \n",
       "4      $GLGSV          3            2           10            69   \n",
       "...       ...        ...          ...          ...           ...   \n",
       "18688  $GNGSA          A            3           02            07   \n",
       "18689  $GNGSA          A            3           07            10   \n",
       "18690  $GNVTG        NaN            T          NaN             M   \n",
       "18691  $GNRMC  122531.00            A  5159.367185             N   \n",
       "18692  $GNGGA  122531.00  5159.367185            N  00422.977396   \n",
       "\n",
       "                  5    6     7    8       9   10    11   12    13   14    15  \\\n",
       "0                41  255  40.0   04      14  074    29   05    35  299  38.0   \n",
       "1                63  136  39.0   09      52  074    34   16    15  039  33.0   \n",
       "2                43  181  44.0   13      05  251   NaN   26    00  000   NaN   \n",
       "3                41  136   NaN   77      43  054   NaN   76    06  016   NaN   \n",
       "4                31  293   NaN   84      33  286   NaN   83    12  227   NaN   \n",
       "...             ...  ...   ...  ...     ...  ...   ...  ...   ...  ...   ...   \n",
       "18688            12   19  27.0   30      33  NaN   NaN  NaN   NaN  NaN   0.8   \n",
       "18689            23   24  25.0   29      30   32    33  NaN   NaN  NaN   0.8   \n",
       "18690           0.0    N   0.0    K    A*3D  NaN   NaN  NaN   NaN  NaN   NaN   \n",
       "18691  00422.977396    E   0.0  NaN  191120  1.8     W    A  V*6F  NaN   NaN   \n",
       "18692             E    1  12.0  0.4    -2.8    M  47.0    M   NaN  *50   NaN   \n",
       "\n",
       "         16    17    18    19    20  \n",
       "0        06  25.0   201  41.0  1*63  \n",
       "1        29   8.0   320  37.0  1*6C  \n",
       "2      1*5D   NaN   NaN   NaN   NaN  \n",
       "3        79   3.0   172   NaN  1*7A  \n",
       "4        85  14.0   345   NaN  1*78  \n",
       "...     ...   ...   ...   ...   ...  \n",
       "18688   0.4   0.6  3*31   NaN   NaN  \n",
       "18689   0.4   0.6  4*31   NaN   NaN  \n",
       "18690   NaN   NaN   NaN   NaN   NaN  \n",
       "18691   NaN   NaN   NaN   NaN   NaN  \n",
       "18692   NaN   NaN   NaN   NaN   NaN  \n",
       "\n",
       "[18693 rows x 21 columns]"
      ],
      "text/html": "<div>\n<style scoped>\n    .dataframe tbody tr th:only-of-type {\n        vertical-align: middle;\n    }\n\n    .dataframe tbody tr th {\n        vertical-align: top;\n    }\n\n    .dataframe thead th {\n        text-align: right;\n    }\n</style>\n<table border=\"1\" class=\"dataframe\">\n  <thead>\n    <tr style=\"text-align: right;\">\n      <th></th>\n      <th>code</th>\n      <th>1</th>\n      <th>2</th>\n      <th>3</th>\n      <th>4</th>\n      <th>5</th>\n      <th>6</th>\n      <th>7</th>\n      <th>8</th>\n      <th>9</th>\n      <th>10</th>\n      <th>11</th>\n      <th>12</th>\n      <th>13</th>\n      <th>14</th>\n      <th>15</th>\n      <th>16</th>\n      <th>17</th>\n      <th>18</th>\n      <th>19</th>\n      <th>20</th>\n    </tr>\n  </thead>\n  <tbody>\n    <tr>\n      <th>0</th>\n      <td>$GPGSV</td>\n      <td>3</td>\n      <td>1</td>\n      <td>11</td>\n      <td>02</td>\n      <td>41</td>\n      <td>255</td>\n      <td>40.0</td>\n      <td>04</td>\n      <td>14</td>\n      <td>074</td>\n      <td>29</td>\n      <td>05</td>\n      <td>35</td>\n      <td>299</td>\n      <td>38.0</td>\n      <td>06</td>\n      <td>25.0</td>\n      <td>201</td>\n      <td>41.0</td>\n      <td>1*63</td>\n    </tr>\n    <tr>\n      <th>1</th>\n      <td>$GPGSV</td>\n      <td>3</td>\n      <td>2</td>\n      <td>11</td>\n      <td>07</td>\n      <td>63</td>\n      <td>136</td>\n      <td>39.0</td>\n      <td>09</td>\n      <td>52</td>\n      <td>074</td>\n      <td>34</td>\n      <td>16</td>\n      <td>15</td>\n      <td>039</td>\n      <td>33.0</td>\n      <td>29</td>\n      <td>8.0</td>\n      <td>320</td>\n      <td>37.0</td>\n      <td>1*6C</td>\n    </tr>\n    <tr>\n      <th>2</th>\n      <td>$GPGSV</td>\n      <td>3</td>\n      <td>3</td>\n      <td>11</td>\n      <td>30</td>\n      <td>43</td>\n      <td>181</td>\n      <td>44.0</td>\n      <td>13</td>\n      <td>05</td>\n      <td>251</td>\n      <td>NaN</td>\n      <td>26</td>\n      <td>00</td>\n      <td>000</td>\n      <td>NaN</td>\n      <td>1*5D</td>\n      <td>NaN</td>\n      <td>NaN</td>\n      <td>NaN</td>\n      <td>NaN</td>\n    </tr>\n    <tr>\n      <th>3</th>\n      <td>$GLGSV</td>\n      <td>3</td>\n      <td>1</td>\n      <td>10</td>\n      <td>78</td>\n      <td>41</td>\n      <td>136</td>\n      <td>NaN</td>\n      <td>77</td>\n      <td>43</td>\n      <td>054</td>\n      <td>NaN</td>\n      <td>76</td>\n      <td>06</td>\n      <td>016</td>\n      <td>NaN</td>\n      <td>79</td>\n      <td>3.0</td>\n      <td>172</td>\n      <td>NaN</td>\n      <td>1*7A</td>\n    </tr>\n    <tr>\n      <th>4</th>\n      <td>$GLGSV</td>\n      <td>3</td>\n      <td>2</td>\n      <td>10</td>\n      <td>69</td>\n      <td>31</td>\n      <td>293</td>\n      <td>NaN</td>\n      <td>84</td>\n      <td>33</td>\n      <td>286</td>\n      <td>NaN</td>\n      <td>83</td>\n      <td>12</td>\n      <td>227</td>\n      <td>NaN</td>\n      <td>85</td>\n      <td>14.0</td>\n      <td>345</td>\n      <td>NaN</td>\n      <td>1*78</td>\n    </tr>\n    <tr>\n      <th>...</th>\n      <td>...</td>\n      <td>...</td>\n      <td>...</td>\n      <td>...</td>\n      <td>...</td>\n      <td>...</td>\n      <td>...</td>\n      <td>...</td>\n      <td>...</td>\n      <td>...</td>\n      <td>...</td>\n      <td>...</td>\n      <td>...</td>\n      <td>...</td>\n      <td>...</td>\n      <td>...</td>\n      <td>...</td>\n      <td>...</td>\n      <td>...</td>\n      <td>...</td>\n      <td>...</td>\n    </tr>\n    <tr>\n      <th>18688</th>\n      <td>$GNGSA</td>\n      <td>A</td>\n      <td>3</td>\n      <td>02</td>\n      <td>07</td>\n      <td>12</td>\n      <td>19</td>\n      <td>27.0</td>\n      <td>30</td>\n      <td>33</td>\n      <td>NaN</td>\n      <td>NaN</td>\n      <td>NaN</td>\n      <td>NaN</td>\n      <td>NaN</td>\n      <td>0.8</td>\n      <td>0.4</td>\n      <td>0.6</td>\n      <td>3*31</td>\n      <td>NaN</td>\n      <td>NaN</td>\n    </tr>\n    <tr>\n      <th>18689</th>\n      <td>$GNGSA</td>\n      <td>A</td>\n      <td>3</td>\n      <td>07</td>\n      <td>10</td>\n      <td>23</td>\n      <td>24</td>\n      <td>25.0</td>\n      <td>29</td>\n      <td>30</td>\n      <td>32</td>\n      <td>33</td>\n      <td>NaN</td>\n      <td>NaN</td>\n      <td>NaN</td>\n      <td>0.8</td>\n      <td>0.4</td>\n      <td>0.6</td>\n      <td>4*31</td>\n      <td>NaN</td>\n      <td>NaN</td>\n    </tr>\n    <tr>\n      <th>18690</th>\n      <td>$GNVTG</td>\n      <td>NaN</td>\n      <td>T</td>\n      <td>NaN</td>\n      <td>M</td>\n      <td>0.0</td>\n      <td>N</td>\n      <td>0.0</td>\n      <td>K</td>\n      <td>A*3D</td>\n      <td>NaN</td>\n      <td>NaN</td>\n      <td>NaN</td>\n      <td>NaN</td>\n      <td>NaN</td>\n      <td>NaN</td>\n      <td>NaN</td>\n      <td>NaN</td>\n      <td>NaN</td>\n      <td>NaN</td>\n      <td>NaN</td>\n    </tr>\n    <tr>\n      <th>18691</th>\n      <td>$GNRMC</td>\n      <td>122531.00</td>\n      <td>A</td>\n      <td>5159.367185</td>\n      <td>N</td>\n      <td>00422.977396</td>\n      <td>E</td>\n      <td>0.0</td>\n      <td>NaN</td>\n      <td>191120</td>\n      <td>1.8</td>\n      <td>W</td>\n      <td>A</td>\n      <td>V*6F</td>\n      <td>NaN</td>\n      <td>NaN</td>\n      <td>NaN</td>\n      <td>NaN</td>\n      <td>NaN</td>\n      <td>NaN</td>\n      <td>NaN</td>\n    </tr>\n    <tr>\n      <th>18692</th>\n      <td>$GNGGA</td>\n      <td>122531.00</td>\n      <td>5159.367185</td>\n      <td>N</td>\n      <td>00422.977396</td>\n      <td>E</td>\n      <td>1</td>\n      <td>12.0</td>\n      <td>0.4</td>\n      <td>-2.8</td>\n      <td>M</td>\n      <td>47.0</td>\n      <td>M</td>\n      <td>NaN</td>\n      <td>*50</td>\n      <td>NaN</td>\n      <td>NaN</td>\n      <td>NaN</td>\n      <td>NaN</td>\n      <td>NaN</td>\n      <td>NaN</td>\n    </tr>\n  </tbody>\n</table>\n<p>18693 rows × 21 columns</p>\n</div>"
     },
     "metadata": {},
     "execution_count": 36
    }
   ],
   "source": [
    "colnm = ['code','1','2','3','4','5','6','7','8','9','10','11','12','13','14','15','16','17','18','19','20'] \n",
    "df = pd.read_csv(\"openField1.txt\" ,names=colnm ,  header=None )\n",
    "# df.columns([])\n",
    "# df.where(df['21']==None)\n",
    "df"
   ]
  },
  {
   "source": [
    "## $GPGSV dataset\n",
    "### GPS Satellites in view\n",
    "\n",
    "```\n",
    "eg. $GPGSV,3,1,11,03,03,111,00,04,15,270,00,06,01,010,00,13,06,292,00*74\n",
    "    $GPGSV,3,2,11,14,25,170,00,16,57,208,39,18,67,296,40,19,40,246,00*74\n",
    "    $GPGSV,3,3,11,22,42,067,42,24,14,311,43,27,05,244,00,,,,*4D\n",
    "\n",
    "\n",
    "    $GPGSV,1,1,13,02,02,213,,03,-3,000,,11,00,121,,14,13,172,05*67\n",
    "\n",
    "1    = Total number of messages of this type in this cycle\n",
    "2    = Message number\n",
    "3    = Total number of SVs in view\n",
    "4    = SV PRN number\n",
    "5    = Elevation in degrees, 90 maximum\n",
    "6    = Azimuth, degrees from true north, 000 to 359\n",
    "7    = SNR, 00-99 dB (null when not tracking)\n",
    "8-11 = Information about second SV, same as field 4-7\n",
    "12-15= Information about third SV, same as field 4-7\n",
    "16-19= Information about fourth SV, same as field 4-7\n",
    "```\n"
   ],
   "cell_type": "markdown",
   "metadata": {}
  },
  {
   "cell_type": "code",
   "execution_count": 37,
   "metadata": {},
   "outputs": [
    {
     "output_type": "execute_result",
     "data": {
      "text/plain": [
       "         code  1  2   3   4   5    6     7   8   9   10   11    12   13   14  \\\n",
       "0      $GPGSV  3  1  11  02  41  255  40.0  04  14  074   29    05   35  299   \n",
       "1      $GPGSV  3  2  11  07  63  136  39.0  09  52  074   34    16   15  039   \n",
       "2      $GPGSV  3  3  11  30  43  181  44.0  13  05  251  NaN    26   00  000   \n",
       "20     $GPGSV  3  1  11  02  41  255  40.0  04  14  074   29    05   35  299   \n",
       "21     $GPGSV  3  2  11  07  63  136  38.0  09  52  074   32    16   15  039   \n",
       "...       ... .. ..  ..  ..  ..  ...   ...  ..  ..  ...  ...   ...  ...  ...   \n",
       "18652  $GPGSV  3  2  10  07  66  123  32.0  09  46  077   39    13   10  254   \n",
       "18653  $GPGSV  3  3  10  29  07  316  35.0  30  49  180   44  1*6C  NaN  NaN   \n",
       "18672  $GPGSV  3  1  10  02  37  248  31.0  04  09  077   36    05   41  298   \n",
       "18673  $GPGSV  3  2  10  07  66  123  31.0  09  46  077   39    13   10  254   \n",
       "18674  $GPGSV  3  3  10  29  07  316  35.0  30  49  180   45  1*6D  NaN  NaN   \n",
       "\n",
       "         15    16    17   18    19    20  \n",
       "0      38.0    06  25.0  201  41.0  1*63  \n",
       "1      33.0    29   8.0  320  37.0  1*6C  \n",
       "2       NaN  1*5D   NaN  NaN   NaN   NaN  \n",
       "20     36.0    06  25.0  201  42.0  1*6E  \n",
       "21     32.0    29   8.0  320  36.0  1*6B  \n",
       "...     ...   ...   ...  ...   ...   ...  \n",
       "18652  38.0    16  14.0  033  35.0  1*6C  \n",
       "18653   NaN   NaN   NaN  NaN   NaN   NaN  \n",
       "18672  41.0    06  19.0  198  40.0  1*69  \n",
       "18673  40.0    16  14.0  033  35.0  1*60  \n",
       "18674   NaN   NaN   NaN  NaN   NaN   NaN  \n",
       "\n",
       "[2766 rows x 21 columns]"
      ],
      "text/html": "<div>\n<style scoped>\n    .dataframe tbody tr th:only-of-type {\n        vertical-align: middle;\n    }\n\n    .dataframe tbody tr th {\n        vertical-align: top;\n    }\n\n    .dataframe thead th {\n        text-align: right;\n    }\n</style>\n<table border=\"1\" class=\"dataframe\">\n  <thead>\n    <tr style=\"text-align: right;\">\n      <th></th>\n      <th>code</th>\n      <th>1</th>\n      <th>2</th>\n      <th>3</th>\n      <th>4</th>\n      <th>5</th>\n      <th>6</th>\n      <th>7</th>\n      <th>8</th>\n      <th>9</th>\n      <th>10</th>\n      <th>11</th>\n      <th>12</th>\n      <th>13</th>\n      <th>14</th>\n      <th>15</th>\n      <th>16</th>\n      <th>17</th>\n      <th>18</th>\n      <th>19</th>\n      <th>20</th>\n    </tr>\n  </thead>\n  <tbody>\n    <tr>\n      <th>0</th>\n      <td>$GPGSV</td>\n      <td>3</td>\n      <td>1</td>\n      <td>11</td>\n      <td>02</td>\n      <td>41</td>\n      <td>255</td>\n      <td>40.0</td>\n      <td>04</td>\n      <td>14</td>\n      <td>074</td>\n      <td>29</td>\n      <td>05</td>\n      <td>35</td>\n      <td>299</td>\n      <td>38.0</td>\n      <td>06</td>\n      <td>25.0</td>\n      <td>201</td>\n      <td>41.0</td>\n      <td>1*63</td>\n    </tr>\n    <tr>\n      <th>1</th>\n      <td>$GPGSV</td>\n      <td>3</td>\n      <td>2</td>\n      <td>11</td>\n      <td>07</td>\n      <td>63</td>\n      <td>136</td>\n      <td>39.0</td>\n      <td>09</td>\n      <td>52</td>\n      <td>074</td>\n      <td>34</td>\n      <td>16</td>\n      <td>15</td>\n      <td>039</td>\n      <td>33.0</td>\n      <td>29</td>\n      <td>8.0</td>\n      <td>320</td>\n      <td>37.0</td>\n      <td>1*6C</td>\n    </tr>\n    <tr>\n      <th>2</th>\n      <td>$GPGSV</td>\n      <td>3</td>\n      <td>3</td>\n      <td>11</td>\n      <td>30</td>\n      <td>43</td>\n      <td>181</td>\n      <td>44.0</td>\n      <td>13</td>\n      <td>05</td>\n      <td>251</td>\n      <td>NaN</td>\n      <td>26</td>\n      <td>00</td>\n      <td>000</td>\n      <td>NaN</td>\n      <td>1*5D</td>\n      <td>NaN</td>\n      <td>NaN</td>\n      <td>NaN</td>\n      <td>NaN</td>\n    </tr>\n    <tr>\n      <th>20</th>\n      <td>$GPGSV</td>\n      <td>3</td>\n      <td>1</td>\n      <td>11</td>\n      <td>02</td>\n      <td>41</td>\n      <td>255</td>\n      <td>40.0</td>\n      <td>04</td>\n      <td>14</td>\n      <td>074</td>\n      <td>29</td>\n      <td>05</td>\n      <td>35</td>\n      <td>299</td>\n      <td>36.0</td>\n      <td>06</td>\n      <td>25.0</td>\n      <td>201</td>\n      <td>42.0</td>\n      <td>1*6E</td>\n    </tr>\n    <tr>\n      <th>21</th>\n      <td>$GPGSV</td>\n      <td>3</td>\n      <td>2</td>\n      <td>11</td>\n      <td>07</td>\n      <td>63</td>\n      <td>136</td>\n      <td>38.0</td>\n      <td>09</td>\n      <td>52</td>\n      <td>074</td>\n      <td>32</td>\n      <td>16</td>\n      <td>15</td>\n      <td>039</td>\n      <td>32.0</td>\n      <td>29</td>\n      <td>8.0</td>\n      <td>320</td>\n      <td>36.0</td>\n      <td>1*6B</td>\n    </tr>\n    <tr>\n      <th>...</th>\n      <td>...</td>\n      <td>...</td>\n      <td>...</td>\n      <td>...</td>\n      <td>...</td>\n      <td>...</td>\n      <td>...</td>\n      <td>...</td>\n      <td>...</td>\n      <td>...</td>\n      <td>...</td>\n      <td>...</td>\n      <td>...</td>\n      <td>...</td>\n      <td>...</td>\n      <td>...</td>\n      <td>...</td>\n      <td>...</td>\n      <td>...</td>\n      <td>...</td>\n      <td>...</td>\n    </tr>\n    <tr>\n      <th>18652</th>\n      <td>$GPGSV</td>\n      <td>3</td>\n      <td>2</td>\n      <td>10</td>\n      <td>07</td>\n      <td>66</td>\n      <td>123</td>\n      <td>32.0</td>\n      <td>09</td>\n      <td>46</td>\n      <td>077</td>\n      <td>39</td>\n      <td>13</td>\n      <td>10</td>\n      <td>254</td>\n      <td>38.0</td>\n      <td>16</td>\n      <td>14.0</td>\n      <td>033</td>\n      <td>35.0</td>\n      <td>1*6C</td>\n    </tr>\n    <tr>\n      <th>18653</th>\n      <td>$GPGSV</td>\n      <td>3</td>\n      <td>3</td>\n      <td>10</td>\n      <td>29</td>\n      <td>07</td>\n      <td>316</td>\n      <td>35.0</td>\n      <td>30</td>\n      <td>49</td>\n      <td>180</td>\n      <td>44</td>\n      <td>1*6C</td>\n      <td>NaN</td>\n      <td>NaN</td>\n      <td>NaN</td>\n      <td>NaN</td>\n      <td>NaN</td>\n      <td>NaN</td>\n      <td>NaN</td>\n      <td>NaN</td>\n    </tr>\n    <tr>\n      <th>18672</th>\n      <td>$GPGSV</td>\n      <td>3</td>\n      <td>1</td>\n      <td>10</td>\n      <td>02</td>\n      <td>37</td>\n      <td>248</td>\n      <td>31.0</td>\n      <td>04</td>\n      <td>09</td>\n      <td>077</td>\n      <td>36</td>\n      <td>05</td>\n      <td>41</td>\n      <td>298</td>\n      <td>41.0</td>\n      <td>06</td>\n      <td>19.0</td>\n      <td>198</td>\n      <td>40.0</td>\n      <td>1*69</td>\n    </tr>\n    <tr>\n      <th>18673</th>\n      <td>$GPGSV</td>\n      <td>3</td>\n      <td>2</td>\n      <td>10</td>\n      <td>07</td>\n      <td>66</td>\n      <td>123</td>\n      <td>31.0</td>\n      <td>09</td>\n      <td>46</td>\n      <td>077</td>\n      <td>39</td>\n      <td>13</td>\n      <td>10</td>\n      <td>254</td>\n      <td>40.0</td>\n      <td>16</td>\n      <td>14.0</td>\n      <td>033</td>\n      <td>35.0</td>\n      <td>1*60</td>\n    </tr>\n    <tr>\n      <th>18674</th>\n      <td>$GPGSV</td>\n      <td>3</td>\n      <td>3</td>\n      <td>10</td>\n      <td>29</td>\n      <td>07</td>\n      <td>316</td>\n      <td>35.0</td>\n      <td>30</td>\n      <td>49</td>\n      <td>180</td>\n      <td>45</td>\n      <td>1*6D</td>\n      <td>NaN</td>\n      <td>NaN</td>\n      <td>NaN</td>\n      <td>NaN</td>\n      <td>NaN</td>\n      <td>NaN</td>\n      <td>NaN</td>\n      <td>NaN</td>\n    </tr>\n  </tbody>\n</table>\n<p>2766 rows × 21 columns</p>\n</div>"
     },
     "metadata": {},
     "execution_count": 37
    }
   ],
   "source": [
    "gsv = df[ df['code'] == '$GPGSV']\n",
    "gsv"
   ]
  },
  {
   "source": [
    "## $GPGSA datasets\n",
    "\n",
    "### GPS DOP and active satellites\n",
    "\n",
    "```\n",
    "eg1. $GPGSA,A,3,,,,,,16,18,,22,24,,,3.6,2.1,2.2*3C\n",
    "eg2. $GPGSA,A,3,19,28,14,18,27,22,31,39,,,,,1.7,1.0,1.3*35\n",
    "\n",
    "\n",
    "1    = Mode:\n",
    "       M=Manual, forced to operate in 2D or 3D\n",
    "       A=Automatic, 3D/2D\n",
    "2    = Mode:\n",
    "       1=Fix not available\n",
    "       2=2D\n",
    "       3=3D\n",
    "3-14 = IDs of SVs used in position fix (null for unused fields)\n",
    "15   = PDOP\n",
    "16   = HDOP\n",
    "17   = VDOP\n",
    "```"
   ],
   "cell_type": "markdown",
   "metadata": {}
  },
  {
   "cell_type": "code",
   "execution_count": 88,
   "metadata": {},
   "outputs": [
    {
     "output_type": "execute_result",
     "data": {
      "text/plain": [
       "         code mode  PDOP HDOP  VDOP    18\n",
       "13     $GNGSA    A   0.7  0.4   0.6  1*31\n",
       "15     $GNGSA    A   0.7  0.4   0.6  3*3A\n",
       "16     $GNGSA    A   0.7  0.4   0.6  4*3F\n",
       "33     $GNGSA    A   0.7  0.4   0.6  1*31\n",
       "35     $GNGSA    A   0.7  0.4   0.6  3*3A\n",
       "...       ...  ...   ...  ...   ...   ...\n",
       "18667  $GNGSA    A   0.8  0.4   0.6  3*31\n",
       "18668  $GNGSA    A   0.8  0.4   0.6  4*31\n",
       "18686  $GNGSA    A   0.8  0.4   0.6  1*3D\n",
       "18688  $GNGSA    A   0.8  0.4   0.6  3*31\n",
       "18689  $GNGSA    A   0.8  0.4   0.6  4*31\n",
       "\n",
       "[2766 rows x 6 columns]"
      ],
      "text/html": "<div>\n<style scoped>\n    .dataframe tbody tr th:only-of-type {\n        vertical-align: middle;\n    }\n\n    .dataframe tbody tr th {\n        vertical-align: top;\n    }\n\n    .dataframe thead th {\n        text-align: right;\n    }\n</style>\n<table border=\"1\" class=\"dataframe\">\n  <thead>\n    <tr style=\"text-align: right;\">\n      <th></th>\n      <th>code</th>\n      <th>mode</th>\n      <th>PDOP</th>\n      <th>HDOP</th>\n      <th>VDOP</th>\n      <th>18</th>\n    </tr>\n  </thead>\n  <tbody>\n    <tr>\n      <th>13</th>\n      <td>$GNGSA</td>\n      <td>A</td>\n      <td>0.7</td>\n      <td>0.4</td>\n      <td>0.6</td>\n      <td>1*31</td>\n    </tr>\n    <tr>\n      <th>15</th>\n      <td>$GNGSA</td>\n      <td>A</td>\n      <td>0.7</td>\n      <td>0.4</td>\n      <td>0.6</td>\n      <td>3*3A</td>\n    </tr>\n    <tr>\n      <th>16</th>\n      <td>$GNGSA</td>\n      <td>A</td>\n      <td>0.7</td>\n      <td>0.4</td>\n      <td>0.6</td>\n      <td>4*3F</td>\n    </tr>\n    <tr>\n      <th>33</th>\n      <td>$GNGSA</td>\n      <td>A</td>\n      <td>0.7</td>\n      <td>0.4</td>\n      <td>0.6</td>\n      <td>1*31</td>\n    </tr>\n    <tr>\n      <th>35</th>\n      <td>$GNGSA</td>\n      <td>A</td>\n      <td>0.7</td>\n      <td>0.4</td>\n      <td>0.6</td>\n      <td>3*3A</td>\n    </tr>\n    <tr>\n      <th>...</th>\n      <td>...</td>\n      <td>...</td>\n      <td>...</td>\n      <td>...</td>\n      <td>...</td>\n      <td>...</td>\n    </tr>\n    <tr>\n      <th>18667</th>\n      <td>$GNGSA</td>\n      <td>A</td>\n      <td>0.8</td>\n      <td>0.4</td>\n      <td>0.6</td>\n      <td>3*31</td>\n    </tr>\n    <tr>\n      <th>18668</th>\n      <td>$GNGSA</td>\n      <td>A</td>\n      <td>0.8</td>\n      <td>0.4</td>\n      <td>0.6</td>\n      <td>4*31</td>\n    </tr>\n    <tr>\n      <th>18686</th>\n      <td>$GNGSA</td>\n      <td>A</td>\n      <td>0.8</td>\n      <td>0.4</td>\n      <td>0.6</td>\n      <td>1*3D</td>\n    </tr>\n    <tr>\n      <th>18688</th>\n      <td>$GNGSA</td>\n      <td>A</td>\n      <td>0.8</td>\n      <td>0.4</td>\n      <td>0.6</td>\n      <td>3*31</td>\n    </tr>\n    <tr>\n      <th>18689</th>\n      <td>$GNGSA</td>\n      <td>A</td>\n      <td>0.8</td>\n      <td>0.4</td>\n      <td>0.6</td>\n      <td>4*31</td>\n    </tr>\n  </tbody>\n</table>\n<p>2766 rows × 6 columns</p>\n</div>"
     },
     "metadata": {},
     "execution_count": 88
    }
   ],
   "source": [
    "gsa = df[ (df['code']=='$GNGSA') & (df['3'] < '64' )]\n",
    "# gsa.drop(['3','4','5','6','7','8','9','10','11','12','13','19','20'] , axis=1, inplace=True)\n",
    "gsa=gsa[['code','1','15','16','17','18']]\n",
    "gsa.columns = ['code','mode','PDOP','HDOP','VDOP','18']\n",
    "gsa\n"
   ]
  },
  {
   "source": [
    "# $GPRMC\n",
    "## Recommended minimum specific GPS/Transit data\n",
    "\n",
    "```\n",
    "eg1. $GPRMC,081836,A,3751.65,S,14507.36,E,000.0,360.0,130998,011.3,E*62\n",
    "eg2. $GPRMC,225446,A,4916.45,N,12311.12,W,000.5,054.7,191194,020.3,E*68\n",
    "\n",
    "\n",
    "           225446       Time of fix 22:54:46 UTC\n",
    "           A            Navigation receiver warning A = OK, V = warning\n",
    "           4916.45,N    Latitude 49 deg. 16.45 min North\n",
    "           12311.12,W   Longitude 123 deg. 11.12 min West\n",
    "           000.5        Speed over ground, Knots\n",
    "           054.7        Course Made Good, True\n",
    "           191194       Date of fix  19 November 1994\n",
    "           020.3,E      Magnetic variation 20.3 deg East\n",
    "           *68          mandatory checksum\n",
    "```           "
   ],
   "cell_type": "markdown",
   "metadata": {}
  }
 ]
}